{
 "cells": [
  {
   "cell_type": "code",
   "execution_count": 1,
   "id": "30e9f2dd-2284-4893-be6e-589931760879",
   "metadata": {},
   "outputs": [],
   "source": [
    "import torch\n",
    "import torch.nn as nn\n",
    "import torch.optim as optim\n",
    "from torchvision import datasets, transforms\n",
    "from torch.utils.data import DataLoader\n",
    "import matplotlib.pyplot as plt"
   ]
  },
  {
   "cell_type": "code",
   "execution_count": 2,
   "id": "1c010439-a711-4769-973d-8dd01f6518e6",
   "metadata": {},
   "outputs": [],
   "source": [
    "# Define CNN model from scratch\n",
    "class CNNModel(nn.Module):\n",
    "    def __init__(self):\n",
    "        super(CNNModel, self).__init__()\n",
    "        # First convolutional layer (input: 1 channel grayscale image)\n",
    "        self.conv1 = nn.Conv2d(in_channels=1, out_channels=32, kernel_size=3, stride=1, padding=1)\n",
    "        self.conv2 = nn.Conv2d(in_channels=32, out_channels=64, kernel_size=3, stride=1, padding=1)\n",
    "        self.conv3 = nn.Conv2d(in_channels=64, out_channels=128, kernel_size=3, stride=1, padding=1)\n",
    "        \n",
    "        # Fully connected layers (assuming input image size of 400x300)\n",
    "        self.fc1 = nn.Linear(128 * 50 * 37, 512)  # Adjust based on image size\n",
    "        self.fc2 = nn.Linear(512, 128)\n",
    "        self.fc3 = nn.Linear(128, 5)  # Output layer for 5 classes\n",
    "\n",
    "        # Pooling layer and activation function\n",
    "        self.pool = nn.MaxPool2d(kernel_size=2, stride=2, padding=0)\n",
    "        self.relu = nn.ReLU()\n",
    "\n",
    "    def forward(self, x):\n",
    "        # Convolutional layers with ReLU and pooling\n",
    "        x = self.pool(self.relu(self.conv1(x)))  # Output: 32 x 200 x 150\n",
    "        x = self.pool(self.relu(self.conv2(x)))  # Output: 64 x 100 x 75\n",
    "        x = self.pool(self.relu(self.conv3(x)))  # Output: 128 x 50 x 37\n",
    "\n",
    "        # Flatten the output from the convolutional layers\n",
    "        x = x.view(-1, 128 * 50 * 37)  # Flattened to 128 * 50 * 37\n",
    "\n",
    "        # Fully connected layers with ReLU\n",
    "        x = self.relu(self.fc1(x))\n",
    "        x = self.relu(self.fc2(x))\n",
    "\n",
    "        # Output layer (no activation, logits)\n",
    "        x = self.fc3(x)\n",
    "        return x"
   ]
  },
  {
   "cell_type": "code",
   "execution_count": 3,
   "id": "e2d77f51-f691-461d-9d55-9cb7bcfee7f4",
   "metadata": {},
   "outputs": [],
   "source": [
    "# Define transformation for grayscale images\n",
    "transform = transforms.Compose([\n",
    "    transforms.Grayscale(num_output_channels=1),  # Ensure the images are in grayscale (1 channel)\n",
    "    transforms.Resize((300, 400)),  # Resize images to 300x400\n",
    "    transforms.ToTensor(),  # Convert images to tensors\n",
    "    transforms.Normalize(mean=[0.5], std=[0.5])  # Normalize grayscale images\n",
    "])"
   ]
  },
  {
   "cell_type": "code",
   "execution_count": 7,
   "id": "2f1d9f09-efce-4366-9334-d588dcde5355",
   "metadata": {},
   "outputs": [],
   "source": [
    "# Load the datasets\n",
    "train_dataset = datasets.ImageFolder(root='./dataset/train', transform=transform)\n",
    "val_dataset = datasets.ImageFolder(root='./dataset/val', transform=transform)"
   ]
  },
  {
   "cell_type": "code",
   "execution_count": 9,
   "id": "8b06ec64-dfd1-49bc-87b5-0cbb25f27429",
   "metadata": {},
   "outputs": [],
   "source": [
    "train_loader = DataLoader(dataset=train_dataset, batch_size=32, shuffle=True)\n",
    "val_loader = DataLoader(dataset=val_dataset, batch_size=32, shuffle=False)"
   ]
  },
  {
   "cell_type": "code",
   "execution_count": 10,
   "id": "ea3d6600-26b8-4f36-ac75-14b7b4d99d03",
   "metadata": {},
   "outputs": [],
   "source": [
    "# Initialize model, loss function, and optimizer\n",
    "device = torch.device(\"cuda\" if torch.cuda.is_available() else \"cpu\")\n",
    "model = CNNModel().to(device)\n",
    "\n",
    "# class_counts = [239, 289, 585, 731, 168]\n",
    "# total_samples = sum(class_counts)\n",
    "# class_weights = [total_samples / (len(class_counts) * count) for count in class_counts]\n",
    "# class_weights = torch.FloatTensor(class_weights).to(device)\n",
    "\n",
    "criterion = nn.CrossEntropyLoss()\n",
    "optimizer = optim.Adam(model.parameters(), lr=0.0005)"
   ]
  },
  {
   "cell_type": "code",
   "execution_count": 11,
   "id": "af19cbf2-6e8c-46e6-8bc6-35b0f0b920ed",
   "metadata": {},
   "outputs": [],
   "source": [
    "# Training parameters\n",
    "num_epochs = 50\n",
    "train_loss_history = []\n",
    "val_loss_history = []\n",
    "train_acc_history = []\n",
    "val_acc_history = []"
   ]
  },
  {
   "cell_type": "code",
   "execution_count": 12,
   "id": "7b2d84b8-a491-4446-a38c-35cffaae273a",
   "metadata": {
    "jupyter": {
     "source_hidden": true
    }
   },
   "outputs": [
    {
     "name": "stdout",
     "output_type": "stream",
     "text": [
      "Epoch [1/50], Train Loss: 1.5089, Train Accuracy: 34.64%, Val Loss: 1.4602, Val Accuracy: 39.09%\n",
      "Epoch [2/50], Train Loss: 1.4184, Train Accuracy: 37.92%, Val Loss: 1.4624, Val Accuracy: 38.29%\n",
      "Epoch [3/50], Train Loss: 1.3677, Train Accuracy: 41.05%, Val Loss: 1.4002, Val Accuracy: 41.27%\n",
      "Epoch [4/50], Train Loss: 1.2984, Train Accuracy: 44.58%, Val Loss: 1.4532, Val Accuracy: 42.86%\n",
      "Epoch [5/50], Train Loss: 1.1278, Train Accuracy: 53.38%, Val Loss: 1.4429, Val Accuracy: 40.08%\n",
      "Epoch [6/50], Train Loss: 0.6310, Train Accuracy: 76.79%, Val Loss: 2.0643, Val Accuracy: 34.33%\n",
      "Epoch [7/50], Train Loss: 0.1890, Train Accuracy: 94.23%, Val Loss: 2.6149, Val Accuracy: 38.49%\n",
      "Epoch [8/50], Train Loss: 0.0432, Train Accuracy: 98.61%, Val Loss: 3.6711, Val Accuracy: 36.90%\n",
      "Epoch [9/50], Train Loss: 0.0131, Train Accuracy: 99.80%, Val Loss: 4.0880, Val Accuracy: 37.70%\n",
      "Epoch [10/50], Train Loss: 0.0024, Train Accuracy: 99.95%, Val Loss: 4.4705, Val Accuracy: 38.10%\n",
      "Epoch [11/50], Train Loss: 0.0008, Train Accuracy: 100.00%, Val Loss: 4.6651, Val Accuracy: 38.29%\n"
     ]
    },
    {
     "ename": "KeyboardInterrupt",
     "evalue": "",
     "output_type": "error",
     "traceback": [
      "\u001b[0;31m---------------------------------------------------------------------------\u001b[0m",
      "\u001b[0;31mKeyboardInterrupt\u001b[0m                         Traceback (most recent call last)",
      "Cell \u001b[0;32mIn[12], line 22\u001b[0m\n\u001b[1;32m     19\u001b[0m optimizer\u001b[38;5;241m.\u001b[39mstep()\n\u001b[1;32m     21\u001b[0m \u001b[38;5;66;03m# Track training loss and accuracy\u001b[39;00m\n\u001b[0;32m---> 22\u001b[0m running_train_loss \u001b[38;5;241m+\u001b[39m\u001b[38;5;241m=\u001b[39m \u001b[43mloss\u001b[49m\u001b[38;5;241;43m.\u001b[39;49m\u001b[43mitem\u001b[49m\u001b[43m(\u001b[49m\u001b[43m)\u001b[49m\n\u001b[1;32m     23\u001b[0m _, predicted \u001b[38;5;241m=\u001b[39m torch\u001b[38;5;241m.\u001b[39mmax(outputs, \u001b[38;5;241m1\u001b[39m)\n\u001b[1;32m     24\u001b[0m total_train \u001b[38;5;241m+\u001b[39m\u001b[38;5;241m=\u001b[39m labels\u001b[38;5;241m.\u001b[39msize(\u001b[38;5;241m0\u001b[39m)\n",
      "\u001b[0;31mKeyboardInterrupt\u001b[0m: "
     ]
    }
   ],
   "source": [
    "# Training and validation loop\n",
    "for epoch in range(num_epochs):\n",
    "    model.train()\n",
    "    running_train_loss = 0.0\n",
    "    correct_train = 0\n",
    "    total_train = 0\n",
    "\n",
    "    # Training loop\n",
    "    for images, labels in train_loader:\n",
    "        images, labels = images.to(device), labels.to(device)\n",
    "\n",
    "        # Forward pass\n",
    "        outputs = model(images)\n",
    "        loss = criterion(outputs, labels)\n",
    "\n",
    "        # Backward pass and optimization\n",
    "        optimizer.zero_grad()\n",
    "        loss.backward()\n",
    "        optimizer.step()\n",
    "\n",
    "        # Track training loss and accuracy\n",
    "        running_train_loss += loss.item()\n",
    "        _, predicted = torch.max(outputs, 1)\n",
    "        total_train += labels.size(0)\n",
    "        correct_train += (predicted == labels).sum().item()\n",
    "\n",
    "    train_loss = running_train_loss / len(train_loader)\n",
    "    train_acc = 100 * correct_train / total_train\n",
    "    train_loss_history.append(train_loss)\n",
    "    train_acc_history.append(train_acc)\n",
    "\n",
    "    # Validation loop\n",
    "    model.eval()\n",
    "    running_val_loss = 0.0\n",
    "    correct_val = 0\n",
    "    total_val = 0\n",
    "    with torch.no_grad():\n",
    "        for images, labels in val_loader:\n",
    "            images, labels = images.to(device), labels.to(device)\n",
    "\n",
    "            # Forward pass\n",
    "            outputs = model(images)\n",
    "            loss = criterion(outputs, labels)\n",
    "\n",
    "            # Track validation loss and accuracy\n",
    "            running_val_loss += loss.item()\n",
    "            _, predicted = torch.max(outputs, 1)\n",
    "            total_val += labels.size(0)\n",
    "            correct_val += (predicted == labels).sum().item()\n",
    "\n",
    "    val_loss = running_val_loss / len(val_loader)\n",
    "    val_acc = 100 * correct_val / total_val\n",
    "    val_loss_history.append(val_loss)\n",
    "    val_acc_history.append(val_acc)\n",
    "\n",
    "    print(f'Epoch [{epoch+1}/{num_epochs}], Train Loss: {train_loss:.4f}, Train Accuracy: {train_acc:.2f}%, Val Loss: {val_loss:.4f}, Val Accuracy: {val_acc:.2f}%')\n"
   ]
  },
  {
   "cell_type": "code",
   "execution_count": null,
   "id": "689cf6aa-143d-4702-81c2-b3a25b23210b",
   "metadata": {},
   "outputs": [],
   "source": [
    "# Plot loss and accuracy\n",
    "epochs_range = range(1, num_epochs + 1)\n",
    "\n",
    "plt.figure(figsize=(12, 5))\n",
    "\n",
    "# Plot training and validation loss\n",
    "plt.subplot(1, 2, 1)\n",
    "plt.plot(epochs_range, train_loss_history, label='Training Loss')\n",
    "plt.plot(epochs_range, val_loss_history, label='Validation Loss')\n",
    "plt.title('Loss')\n",
    "plt.xlabel('Epochs')\n",
    "plt.ylabel('Loss')\n",
    "plt.legend()\n",
    "\n",
    "# Plot training and validation accuracy\n",
    "plt.subplot(1, 2, 2)\n",
    "plt.plot(epochs_range, train_acc_history, label='Training Accuracy')\n",
    "plt.plot(epochs_range, val_acc_history, label='Validation Accuracy')\n",
    "plt.title('Accuracy')\n",
    "plt.xlabel('Epochs')\n",
    "plt.ylabel('Accuracy (%)')\n",
    "plt.legend()\n",
    "\n",
    "plt.show()"
   ]
  },
  {
   "cell_type": "code",
   "execution_count": 25,
   "id": "ce37b70d-86a4-4183-b04c-d0d89f0d1957",
   "metadata": {},
   "outputs": [],
   "source": [
    "# Save the trained model\n",
    "model_save_path = './weights/custom-aug1.pth'\n",
    "torch.save(model.state_dict(), model_save_path)\n"
   ]
  },
  {
   "cell_type": "markdown",
   "id": "f32c250c-2492-48bf-9f99-28bf06eb0e7d",
   "metadata": {},
   "source": [
    "# Test code"
   ]
  },
  {
   "cell_type": "code",
   "execution_count": 26,
   "id": "157e894b-5745-4e50-8178-f0e70348297a",
   "metadata": {},
   "outputs": [],
   "source": [
    "import os\n",
    "import pandas as pd\n",
    "from PIL import Image\n",
    "from torchvision import transforms\n",
    "\n",
    "# Load the trained model (make sure it's in evaluation mode)\n",
    "model = CNNModel().to(device)\n",
    "model.load_state_dict(torch.load('./weights/custom-aug1.pth'))\n",
    "model.eval()\n",
    "\n",
    "# Define transformation for test images\n",
    "test_transform = transforms.Compose([\n",
    "    transforms.Grayscale(num_output_channels=1),  # Ensure the images are in grayscale (1 channel)\n",
    "    transforms.Resize((300, 400)),  # Resize images to 300x400\n",
    "    transforms.ToTensor(),  # Convert images to tensors\n",
    "    transforms.Normalize(mean=[0.5], std=[0.5])  # Normalize grayscale images\n",
    "])\n",
    "\n",
    "# Directory containing test images\n",
    "test_dir = './data/dataset/test'\n",
    "test_images = [f for f in os.listdir(test_dir) if f.endswith('.jpg')]\n",
    "\n",
    "# Sort filenames to ensure correct order\n",
    "test_images.sort(key=lambda x: int(os.path.splitext(x)[0]))  # Assuming filenames are numeric\n",
    "\n",
    "# Initialize lists to store filenames and predictions\n",
    "filenames = []\n",
    "predictions = []\n",
    "\n",
    "# Process each image in the test directory\n",
    "for image_name in test_images:\n",
    "    image_path = os.path.join(test_dir, image_name)\n",
    "    image = Image.open(image_path)\n",
    "    image = test_transform(image)\n",
    "    image = image.unsqueeze(0).to(device)  # Add batch dimension and move to device\n",
    "\n",
    "    # Predict the class\n",
    "    with torch.no_grad():\n",
    "        outputs = model(image)\n",
    "        _, predicted = torch.max(outputs, 1)\n",
    "        class_id = predicted.item()\n",
    "\n",
    "    # Save results\n",
    "    filenames.append(os.path.splitext(image_name)[0])  # Remove .jpg from filename\n",
    "    predictions.append(class_id + 1)  # Map class_id to 1-based index\n",
    "\n",
    "# Save results to a CSV file\n",
    "results_df = pd.DataFrame({'ID': filenames, 'Predictions': predictions})\n",
    "results_df.to_csv('predictions.csv', index=False)\n"
   ]
  },
  {
   "cell_type": "code",
   "execution_count": null,
   "id": "71d8dc51-b354-49da-adbb-c71cb4764d4b",
   "metadata": {},
   "outputs": [],
   "source": []
  },
  {
   "cell_type": "code",
   "execution_count": null,
   "id": "ce66aede-1be8-4b1f-a8f9-d1c680464055",
   "metadata": {},
   "outputs": [],
   "source": []
  }
 ],
 "metadata": {
  "kernelspec": {
   "display_name": "Python 3 (ipykernel)",
   "language": "python",
   "name": "python3"
  },
  "language_info": {
   "codemirror_mode": {
    "name": "ipython",
    "version": 3
   },
   "file_extension": ".py",
   "mimetype": "text/x-python",
   "name": "python",
   "nbconvert_exporter": "python",
   "pygments_lexer": "ipython3",
   "version": "3.10.14"
  }
 },
 "nbformat": 4,
 "nbformat_minor": 5
}
