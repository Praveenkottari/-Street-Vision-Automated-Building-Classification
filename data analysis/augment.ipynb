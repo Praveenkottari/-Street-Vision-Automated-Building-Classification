{
 "cells": [
  {
   "cell_type": "code",
   "execution_count": 10,
   "id": "2cb394c0-f6d8-429b-b875-804cd231edac",
   "metadata": {},
   "outputs": [
    {
     "name": "stdout",
     "output_type": "stream",
     "text": [
      "Augmented images cropped and saved successfully.\n"
     ]
    }
   ],
   "source": [
    "import os\n",
    "import random\n",
    "from PIL import Image\n",
    "from torchvision import transforms\n",
    "\n",
    "# Define paths\n",
    "original_folder = './../dataset/raw_data/train'  # Path to original dataset\n",
    "output_folder = './../augmented/augment'  # Path to save cropped images\n",
    "\n",
    "# Create output directory if it doesn't exist\n",
    "os.makedirs(output_folder, exist_ok=True)\n",
    "\n",
    "# Define the random crop and resize transform\n",
    "transform = transforms.Compose([\n",
    "    transforms.RandomCrop((224, 224)),  # Randomly crop to 224x224\n",
    "    transforms.Resize((300, 400)),       # Resize back to 300x400\n",
    "])\n",
    "\n",
    "# Iterate through all class folders in the original folder\n",
    "for class_folder in os.listdir(original_folder):\n",
    "    class_folder_path = os.path.join(original_folder, class_folder)\n",
    "    \n",
    "    # Check if it is a directory (class folder)\n",
    "    if os.path.isdir(class_folder_path):\n",
    "        # Create corresponding output directory for the class\n",
    "        output_class_folder = os.path.join(output_folder, class_folder)\n",
    "        os.makedirs(output_class_folder, exist_ok=True)\n",
    "        \n",
    "        # Get all image files in the class folder\n",
    "        image_files = [filename for filename in os.listdir(class_folder_path) if filename.endswith(('.jpg', '.png', '.jpeg'))]\n",
    "\n",
    "        # Determine how many images to process (40-50% of the total)\n",
    "        num_images_to_process = random.randint(int(0.4 * len(image_files)), int(0.5 * len(image_files)))\n",
    "\n",
    "        # Randomly sample images to process\n",
    "        sampled_images = random.sample(image_files, num_images_to_process)\n",
    "\n",
    "        # Process each sampled image\n",
    "        for filename in sampled_images:\n",
    "            original_image_path = os.path.join(class_folder_path, filename)\n",
    "            \n",
    "            # Open the original image\n",
    "            image = Image.open(original_image_path).convert('RGB')  # Ensure image is in RGB mode\n",
    "            \n",
    "            # Create one random cropped image\n",
    "            cropped_image = transform(image)  # Apply random crop and resize\n",
    "            cropped_image.save(os.path.join(output_class_folder, f'{filename[:-4]}_crop.png'))  # Save with a new name\n",
    "\n",
    "print(\"Augmented images cropped and saved successfully.\")\n"
   ]
  },
  {
   "cell_type": "code",
   "execution_count": null,
   "id": "ca6fd2c3-6ad7-4156-907d-aa8b82ab0279",
   "metadata": {},
   "outputs": [],
   "source": []
  }
 ],
 "metadata": {
  "kernelspec": {
   "display_name": "Python 3 (ipykernel)",
   "language": "python",
   "name": "python3"
  },
  "language_info": {
   "codemirror_mode": {
    "name": "ipython",
    "version": 3
   },
   "file_extension": ".py",
   "mimetype": "text/x-python",
   "name": "python",
   "nbconvert_exporter": "python",
   "pygments_lexer": "ipython3",
   "version": "3.10.14"
  }
 },
 "nbformat": 4,
 "nbformat_minor": 5
}
